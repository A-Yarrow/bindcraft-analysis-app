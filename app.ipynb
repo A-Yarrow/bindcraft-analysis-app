{
 "cells": [
  {
   "cell_type": "code",
   "execution_count": null,
   "id": "621add78",
   "metadata": {},
   "outputs": [],
   "source": [
    "import py3Dmol\n",
    "from Bio.PDB import PDBParser\n",
    "import pandas as pd\n",
    "import numpy as np"
   ]
  },
  {
   "cell_type": "code",
   "execution_count": null,
   "id": "f511e4b6",
   "metadata": {},
   "outputs": [],
   "source": [
    "file_path = '/home/yarrow/projects/bindcraft-analysis-app/examples/PDL1/final_design_stats.csv'\n",
    "df = pd.read_csv(file_path)"
   ]
  },
  {
   "cell_type": "code",
   "execution_count": null,
   "id": "60ab67a6",
   "metadata": {},
   "outputs": [],
   "source": [
    "df = df.dropna(axis=1, how='all')\n",
    "\n",
    "#Define metric categories \n",
    "af2_metrics_root = ['pLDDT', 'pTM', 'pAE', 'RMSD']\n",
    "rosetta_metrics_root = ['SASA', 'ShapeComplementarity', 'dG', 'PackStat']\n",
    "af2_metrics = [col for col in df.columns.tolist() if any(m in col for m in af2_metrics_root)]\n",
    "rosetta_metrics = [col for col in df.columns.tolist() if any(m in col for m in rosetta_metrics_root)]\n",
    "other_metrics = [col for col in df.columns.tolist() if col not in af2_metrics or col not in rosetta_metrics]\n",
    "\n",
    "df_subset = df[af2_metrics + rosetta_metrics]"
   ]
  },
  {
   "cell_type": "code",
   "execution_count": null,
   "id": "68baa638",
   "metadata": {},
   "outputs": [],
   "source": [
    "for i in df_subset.columns:\n",
    "    if i[0] == '1':\n",
    "        df[f'{i[2:]}-ratio'] = np.abs(df[f'1_{i[2:]}'] / df[f'2_{i[2:]}']).round(decimals=2)"
   ]
  },
  {
   "cell_type": "code",
   "execution_count": null,
   "id": "3bb77d08",
   "metadata": {},
   "outputs": [],
   "source": [
    "\n",
    "top_metrics = [\n",
    "'Average_dSASA',\n",
    "'Average_ShapeComplementarity',\n",
    "'Average_dG',\n",
    "'Average_i_pLDDT',\n",
    "'Average_i_pAE',\n",
    "'Average_Binder_pLDDT',\n",
    "'Average_pLDDT',\n",
    "'Average_pAE',\n",
    "'Average_pTM',\n",
    "'Average_Hotspot_RMSD',\n",
    "'Average_PackStat',\n",
    "'Average_Relaxed_Clashes',\n",
    "'Average_n_InterfaceHbonds',\n",
    "]\n",
    "    \n",
    "    "
   ]
  },
  {
   "cell_type": "code",
   "execution_count": 39,
   "id": "df1306b6",
   "metadata": {},
   "outputs": [
    {
     "ename": "KeyError",
     "evalue": "\"['Average_pTMAverage_Hotspot_RMSD'] not in index\"",
     "output_type": "error",
     "traceback": [
      "\u001b[0;31m---------------------------------------------------------------------------\u001b[0m",
      "\u001b[0;31mKeyError\u001b[0m                                  Traceback (most recent call last)",
      "Cell \u001b[0;32mIn[39], line 1\u001b[0m\n\u001b[0;32m----> 1\u001b[0m \u001b[43mdf\u001b[49m\u001b[43m[\u001b[49m\u001b[43mtop_metrics\u001b[49m\u001b[43m]\u001b[49m\n",
      "File \u001b[0;32m~/miniforge3/envs/bindcraft-app/lib/python3.10/site-packages/pandas/core/frame.py:4113\u001b[0m, in \u001b[0;36mDataFrame.__getitem__\u001b[0;34m(self, key)\u001b[0m\n\u001b[1;32m   4111\u001b[0m     \u001b[38;5;28;01mif\u001b[39;00m is_iterator(key):\n\u001b[1;32m   4112\u001b[0m         key \u001b[38;5;241m=\u001b[39m \u001b[38;5;28mlist\u001b[39m(key)\n\u001b[0;32m-> 4113\u001b[0m     indexer \u001b[38;5;241m=\u001b[39m \u001b[38;5;28;43mself\u001b[39;49m\u001b[38;5;241;43m.\u001b[39;49m\u001b[43mcolumns\u001b[49m\u001b[38;5;241;43m.\u001b[39;49m\u001b[43m_get_indexer_strict\u001b[49m\u001b[43m(\u001b[49m\u001b[43mkey\u001b[49m\u001b[43m,\u001b[49m\u001b[43m \u001b[49m\u001b[38;5;124;43m\"\u001b[39;49m\u001b[38;5;124;43mcolumns\u001b[39;49m\u001b[38;5;124;43m\"\u001b[39;49m\u001b[43m)\u001b[49m[\u001b[38;5;241m1\u001b[39m]\n\u001b[1;32m   4115\u001b[0m \u001b[38;5;66;03m# take() does not accept boolean indexers\u001b[39;00m\n\u001b[1;32m   4116\u001b[0m \u001b[38;5;28;01mif\u001b[39;00m \u001b[38;5;28mgetattr\u001b[39m(indexer, \u001b[38;5;124m\"\u001b[39m\u001b[38;5;124mdtype\u001b[39m\u001b[38;5;124m\"\u001b[39m, \u001b[38;5;28;01mNone\u001b[39;00m) \u001b[38;5;241m==\u001b[39m \u001b[38;5;28mbool\u001b[39m:\n",
      "File \u001b[0;32m~/miniforge3/envs/bindcraft-app/lib/python3.10/site-packages/pandas/core/indexes/base.py:6212\u001b[0m, in \u001b[0;36mIndex._get_indexer_strict\u001b[0;34m(self, key, axis_name)\u001b[0m\n\u001b[1;32m   6209\u001b[0m \u001b[38;5;28;01melse\u001b[39;00m:\n\u001b[1;32m   6210\u001b[0m     keyarr, indexer, new_indexer \u001b[38;5;241m=\u001b[39m \u001b[38;5;28mself\u001b[39m\u001b[38;5;241m.\u001b[39m_reindex_non_unique(keyarr)\n\u001b[0;32m-> 6212\u001b[0m \u001b[38;5;28;43mself\u001b[39;49m\u001b[38;5;241;43m.\u001b[39;49m\u001b[43m_raise_if_missing\u001b[49m\u001b[43m(\u001b[49m\u001b[43mkeyarr\u001b[49m\u001b[43m,\u001b[49m\u001b[43m \u001b[49m\u001b[43mindexer\u001b[49m\u001b[43m,\u001b[49m\u001b[43m \u001b[49m\u001b[43maxis_name\u001b[49m\u001b[43m)\u001b[49m\n\u001b[1;32m   6214\u001b[0m keyarr \u001b[38;5;241m=\u001b[39m \u001b[38;5;28mself\u001b[39m\u001b[38;5;241m.\u001b[39mtake(indexer)\n\u001b[1;32m   6215\u001b[0m \u001b[38;5;28;01mif\u001b[39;00m \u001b[38;5;28misinstance\u001b[39m(key, Index):\n\u001b[1;32m   6216\u001b[0m     \u001b[38;5;66;03m# GH 42790 - Preserve name from an Index\u001b[39;00m\n",
      "File \u001b[0;32m~/miniforge3/envs/bindcraft-app/lib/python3.10/site-packages/pandas/core/indexes/base.py:6264\u001b[0m, in \u001b[0;36mIndex._raise_if_missing\u001b[0;34m(self, key, indexer, axis_name)\u001b[0m\n\u001b[1;32m   6261\u001b[0m     \u001b[38;5;28;01mraise\u001b[39;00m \u001b[38;5;167;01mKeyError\u001b[39;00m(\u001b[38;5;124mf\u001b[39m\u001b[38;5;124m\"\u001b[39m\u001b[38;5;124mNone of [\u001b[39m\u001b[38;5;132;01m{\u001b[39;00mkey\u001b[38;5;132;01m}\u001b[39;00m\u001b[38;5;124m] are in the [\u001b[39m\u001b[38;5;132;01m{\u001b[39;00maxis_name\u001b[38;5;132;01m}\u001b[39;00m\u001b[38;5;124m]\u001b[39m\u001b[38;5;124m\"\u001b[39m)\n\u001b[1;32m   6263\u001b[0m not_found \u001b[38;5;241m=\u001b[39m \u001b[38;5;28mlist\u001b[39m(ensure_index(key)[missing_mask\u001b[38;5;241m.\u001b[39mnonzero()[\u001b[38;5;241m0\u001b[39m]]\u001b[38;5;241m.\u001b[39munique())\n\u001b[0;32m-> 6264\u001b[0m \u001b[38;5;28;01mraise\u001b[39;00m \u001b[38;5;167;01mKeyError\u001b[39;00m(\u001b[38;5;124mf\u001b[39m\u001b[38;5;124m\"\u001b[39m\u001b[38;5;132;01m{\u001b[39;00mnot_found\u001b[38;5;132;01m}\u001b[39;00m\u001b[38;5;124m not in index\u001b[39m\u001b[38;5;124m\"\u001b[39m)\n",
      "\u001b[0;31mKeyError\u001b[0m: \"['Average_pTMAverage_Hotspot_RMSD'] not in index\""
     ]
    }
   ],
   "source": [
    "df[top_metrics]"
   ]
  },
  {
   "cell_type": "code",
   "execution_count": 38,
   "id": "5b3a673d",
   "metadata": {},
   "outputs": [
    {
     "data": {
      "text/plain": [
       "['pLDDT-ratio',\n",
       " 'pTM-ratio',\n",
       " 'i_pTM-ratio',\n",
       " 'pAE-ratio',\n",
       " 'i_pAE-ratio',\n",
       " 'i_pLDDT-ratio',\n",
       " 'ss_pLDDT-ratio',\n",
       " 'Hotspot_RMSD-ratio',\n",
       " 'Target_RMSD-ratio',\n",
       " 'Binder_pLDDT-ratio',\n",
       " 'Binder_pTM-ratio',\n",
       " 'Binder_pAE-ratio',\n",
       " 'Binder_RMSD-ratio',\n",
       " 'ShapeComplementarity-ratio',\n",
       " 'PackStat-ratio',\n",
       " 'dG-ratio',\n",
       " 'dSASA-ratio',\n",
       " 'dG/dSASA-ratio',\n",
       " 'Interface_SASA_%-ratio']"
      ]
     },
     "execution_count": 38,
     "metadata": {},
     "output_type": "execute_result"
    }
   ],
   "source": [
    "[i for i in df_subset.columns.tolist() if 'ratio' in i]"
   ]
  },
  {
   "cell_type": "code",
   "execution_count": null,
   "id": "5f9ecf0b",
   "metadata": {},
   "outputs": [],
   "source": [
    "df[af2_metrics + rosetta_metrics]"
   ]
  },
  {
   "cell_type": "code",
   "execution_count": null,
   "id": "fd313509",
   "metadata": {},
   "outputs": [],
   "source": [
    "df.columns.tolist()"
   ]
  },
  {
   "cell_type": "code",
   "execution_count": null,
   "id": "94a1a8b2",
   "metadata": {},
   "outputs": [],
   "source": [
    "df.columns.tolist()\n",
    "plddt = [i for i in df.columns if 'pLDDT' in i and 'Average' not in i]\n",
    "dfsub = df[['Rank', 'Design']+plddt]\n"
   ]
  },
  {
   "cell_type": "code",
   "execution_count": null,
   "id": "466f10b8",
   "metadata": {},
   "outputs": [],
   "source": [
    "dfsub"
   ]
  },
  {
   "cell_type": "code",
   "execution_count": null,
   "id": "beff4a2c",
   "metadata": {},
   "outputs": [],
   "source": [
    "df.columns.tolist()\n",
    "pae = [i for i in df.columns if 'pAE' in i and 'Average' not in i]\n",
    "dfsub2 = df[['Rank', 'Design']+pae]"
   ]
  },
  {
   "cell_type": "code",
   "execution_count": null,
   "id": "bc06709b",
   "metadata": {},
   "outputs": [],
   "source": [
    "dfsub2.head()"
   ]
  },
  {
   "cell_type": "code",
   "execution_count": null,
   "id": "42e61903",
   "metadata": {},
   "outputs": [],
   "source": [
    "def get_interface_residues(pdb_file, distance_threshold=3.5)->tuple[set, set]:\n",
    "    \"\"\"Returns:\n",
    "        Tuple of two sets:\n",
    "            - binder residues: set of ('A', resnum)\n",
    "            - target residues: set of ('B', resnum)\n",
    "    \"\"\"\n",
    "    parser = PDBParser(QUIET=True)\n",
    "    \n",
    "    pdb_text = pdb_file.read().decode(\"utf-8\")\n",
    "    #pdb_io = StringIO(pdb_text) #Make the string a file-like object\n",
    "    #pdb_io.seek(0)  # Reset file pointer to the beginning \n",
    "    \n",
    "    structure = parser.get_structure('complex', pdb_text)\n",
    "\n",
    "    model = structure[0]\n",
    "    Binder = model['A']\n",
    "    Target = model['B']\n",
    "\n",
    "    interface_residues_binder = set()\n",
    "    interface_residues_target = set()\n",
    "\n",
    "    for residueA in Binder:\n",
    "        if residueA.id[0] != ' ':  # Skip hetero residues\n",
    "            continue\n",
    "        for atomA in residueA:\n",
    "            for residueB in Target:\n",
    "                if residueB.id[0] != ' ':  # Skip hetero residues\n",
    "                    continue\n",
    "                for atomB in residueB:\n",
    "                    distance = atomA - atomB # Euclidean distance in Å\n",
    "                    if distance < distance_threshold:\n",
    "                        interface_residues_binder.add(('A', residueA.id[1]))\n",
    "                        interface_residues_target.add(('B', residueB.id[1]))\n",
    "\n",
    "    return interface_residues_binder, interface_residues_target"
   ]
  },
  {
   "cell_type": "code",
   "execution_count": null,
   "id": "988221aa",
   "metadata": {},
   "outputs": [],
   "source": [
    "pdb_path = '/home/yarrow/projects/bindcraft-analysis-app/examples/test/Accepted/PDL1-Binder_l102_s533999_mpnn18_model2.pdb'\n",
    "binders, target = get_interface_residues(pdb_path, distance_threshold=3.5)"
   ]
  },
  {
   "cell_type": "code",
   "execution_count": null,
   "id": "d7892c38",
   "metadata": {},
   "outputs": [],
   "source": [
    "test"
   ]
  },
  {
   "cell_type": "code",
   "execution_count": null,
   "id": "85242615",
   "metadata": {},
   "outputs": [],
   "source": [
    "import py3Dmol\n",
    "def load_pdb(pdb_file):\n",
    "\n",
    "    pdb_text = open(pdb_file, 'r').read()\n",
    "    view = py3Dmol.view(width=800, height=400)\n",
    "    view.addModel(pdb_text, 'pdb')\n",
    "    view.setStyle({'cartoon': {'color': 'spectrum'}})\n",
    "    view.setBackgroundColor('0xeeeeee')\n",
    "    view.zoomTo()\n",
    "    return view.show()"
   ]
  },
  {
   "cell_type": "code",
   "execution_count": null,
   "id": "8fc47ab7",
   "metadata": {},
   "outputs": [],
   "source": [
    "import streamlit as st\n",
    "import pandas as pd\n",
    "#from binder.parse_bindcraft import load_run\n",
    "\n",
    "st.set_page_config(layout=\"wide\", page_title=\"BindCraft Dashboard (Prototype)\")\n",
    "\n",
    "st.sidebar.header(\"Data\")\n",
    "uploaded_pdb = st.sidebar.file_uploader(\"Upload PDB)\", type=[\"pdb\"])\n",
    "pdb_name = os.path.basename(uploaded_pdb.name) if uploaded_pdb else None\n",
    "\n",
    "if uploaded_pdb:\n",
    "    pdbs = load_pdb(uploaded_pdb)  \n",
    "else:\n",
    "    st.info(\"Upload PDB file to visualize\")\n",
    "    \n",
    "\n",
    "st.title(f\"BindCraft - {pdb_name} Run  Overview\")\n",
    "#st.metric(\"Designs\", len(df))\n",
    "#st.plotly_chart(...)  # histogram\n",
    "# Designs table\n",
    "#selected = st.dataframe(df.sort_values(\"total_score\").head(200))"
   ]
  }
 ],
 "metadata": {
  "kernelspec": {
   "display_name": "bindcraft-app",
   "language": "python",
   "name": "python3"
  },
  "language_info": {
   "codemirror_mode": {
    "name": "ipython",
    "version": 3
   },
   "file_extension": ".py",
   "mimetype": "text/x-python",
   "name": "python",
   "nbconvert_exporter": "python",
   "pygments_lexer": "ipython3",
   "version": "3.10.18"
  }
 },
 "nbformat": 4,
 "nbformat_minor": 5
}
